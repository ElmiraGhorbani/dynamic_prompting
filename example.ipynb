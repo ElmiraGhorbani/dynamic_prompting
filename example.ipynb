{
 "cells": [
  {
   "cell_type": "markdown",
   "metadata": {},
   "source": [
    "### Dynamic Prompting\n",
    "\n",
    "This example goes over how to use DynamicPrompting to interact with dynamic few-shot prompting inference for downstream tasks such as classification.\n",
    "\n"
   ]
  },
  {
   "cell_type": "markdown",
   "metadata": {},
   "source": []
  }
 ],
 "metadata": {
  "language_info": {
   "name": "python"
  }
 },
 "nbformat": 4,
 "nbformat_minor": 2
}
